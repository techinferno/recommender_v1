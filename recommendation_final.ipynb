{
 "cells": [
  {
   "cell_type": "markdown",
   "id": "7e443761",
   "metadata": {},
   "source": [
    "# Data Preprocessing"
   ]
  },
  {
   "cell_type": "code",
   "execution_count": 67,
   "id": "d6a2f48f",
   "metadata": {},
   "outputs": [],
   "source": [
    "import pandas as pd\n",
    "import operator\n",
    "\n",
    "#read_videos_file\n",
    "videos = pd.read_excel('videos.xlsx')"
   ]
  },
  {
   "cell_type": "code",
   "execution_count": 68,
   "id": "882d6b3c",
   "metadata": {},
   "outputs": [],
   "source": [
    "import operator\n",
    "def find_highest_confidence_object(video_features_from_ads):\n",
    "    split_first = video_features_from_ads.split(\"|\")\n",
    "    get_objects = [x.split(\":\")[0] for x in split_first]\n",
    "    get_confidence = [int(x.split(\":\")[1]) for x in split_first]\n",
    "    converted_dict = dict(zip(get_objects, get_confidence))\n",
    "    return max(converted_dict.items(), key=operator.itemgetter(1))[0]\n",
    "videos['ad_cat'] = videos['detected_objects_withconfidence'].apply(find_highest_confidence_object)"
   ]
  },
  {
   "cell_type": "code",
   "execution_count": null,
   "id": "d2ed96fe",
   "metadata": {},
   "outputs": [],
   "source": []
  },
  {
   "cell_type": "code",
   "execution_count": 69,
   "id": "49920503",
   "metadata": {},
   "outputs": [
    {
     "data": {
      "text/html": [
       "<div>\n",
       "<style scoped>\n",
       "    .dataframe tbody tr th:only-of-type {\n",
       "        vertical-align: middle;\n",
       "    }\n",
       "\n",
       "    .dataframe tbody tr th {\n",
       "        vertical-align: top;\n",
       "    }\n",
       "\n",
       "    .dataframe thead th {\n",
       "        text-align: right;\n",
       "    }\n",
       "</style>\n",
       "<table border=\"1\" class=\"dataframe\">\n",
       "  <thead>\n",
       "    <tr style=\"text-align: right;\">\n",
       "      <th></th>\n",
       "      <th>video_id</th>\n",
       "      <th>detected_objects_withconfidence</th>\n",
       "      <th>ad_cat</th>\n",
       "    </tr>\n",
       "  </thead>\n",
       "  <tbody>\n",
       "    <tr>\n",
       "      <th>0</th>\n",
       "      <td>46</td>\n",
       "      <td>Shirt:20|Trousers:20|Footwear:20|Handbag:20|Wa...</td>\n",
       "      <td>Shirt</td>\n",
       "    </tr>\n",
       "    <tr>\n",
       "      <th>1</th>\n",
       "      <td>47</td>\n",
       "      <td>Shirt:0|Trousers:0|Footwear:0|Handbag:0|Watch:...</td>\n",
       "      <td>Shirt</td>\n",
       "    </tr>\n",
       "  </tbody>\n",
       "</table>\n",
       "</div>"
      ],
      "text/plain": [
       "   video_id                    detected_objects_withconfidence ad_cat\n",
       "0        46  Shirt:20|Trousers:20|Footwear:20|Handbag:20|Wa...  Shirt\n",
       "1        47  Shirt:0|Trousers:0|Footwear:0|Handbag:0|Watch:...  Shirt"
      ]
     },
     "execution_count": 69,
     "metadata": {},
     "output_type": "execute_result"
    }
   ],
   "source": [
    "videos.head(2)"
   ]
  },
  {
   "cell_type": "code",
   "execution_count": 70,
   "id": "c0e00f5f",
   "metadata": {},
   "outputs": [],
   "source": [
    "video_mapper = pd.Series(videos.ad_cat.values,index=videos.video_id).to_dict()"
   ]
  },
  {
   "cell_type": "code",
   "execution_count": null,
   "id": "2e40917a",
   "metadata": {},
   "outputs": [],
   "source": []
  },
  {
   "cell_type": "code",
   "execution_count": null,
   "id": "e0423d42",
   "metadata": {},
   "outputs": [],
   "source": []
  },
  {
   "cell_type": "code",
   "execution_count": 71,
   "id": "efbcffaa",
   "metadata": {},
   "outputs": [
    {
     "data": {
      "text/html": [
       "<div>\n",
       "<style scoped>\n",
       "    .dataframe tbody tr th:only-of-type {\n",
       "        vertical-align: middle;\n",
       "    }\n",
       "\n",
       "    .dataframe tbody tr th {\n",
       "        vertical-align: top;\n",
       "    }\n",
       "\n",
       "    .dataframe thead th {\n",
       "        text-align: right;\n",
       "    }\n",
       "</style>\n",
       "<table border=\"1\" class=\"dataframe\">\n",
       "  <thead>\n",
       "    <tr style=\"text-align: right;\">\n",
       "      <th></th>\n",
       "      <th>id</th>\n",
       "      <th>user_id</th>\n",
       "      <th>watched_video_id</th>\n",
       "      <th>watch_time_in_sec</th>\n",
       "      <th>ad_cat</th>\n",
       "      <th>ad_cat_id</th>\n",
       "      <th>click</th>\n",
       "      <th>ad_id</th>\n",
       "    </tr>\n",
       "  </thead>\n",
       "  <tbody>\n",
       "    <tr>\n",
       "      <th>0</th>\n",
       "      <td>1</td>\n",
       "      <td>202</td>\n",
       "      <td>9195</td>\n",
       "      <td>74</td>\n",
       "      <td>Headphones</td>\n",
       "      <td>8</td>\n",
       "      <td>0</td>\n",
       "      <td>146</td>\n",
       "    </tr>\n",
       "    <tr>\n",
       "      <th>1</th>\n",
       "      <td>2</td>\n",
       "      <td>333</td>\n",
       "      <td>7331</td>\n",
       "      <td>143</td>\n",
       "      <td>Headphones</td>\n",
       "      <td>8</td>\n",
       "      <td>0</td>\n",
       "      <td>146</td>\n",
       "    </tr>\n",
       "  </tbody>\n",
       "</table>\n",
       "</div>"
      ],
      "text/plain": [
       "   id  user_id  watched_video_id  watch_time_in_sec      ad_cat  ad_cat_id  \\\n",
       "0   1      202              9195                 74  Headphones          8   \n",
       "1   2      333              7331                143  Headphones          8   \n",
       "\n",
       "   click  ad_id  \n",
       "0      0    146  \n",
       "1      0    146  "
      ]
     },
     "execution_count": 71,
     "metadata": {},
     "output_type": "execute_result"
    }
   ],
   "source": [
    "watch_history = pd.read_excel('watch_history_final.xlsx')\n",
    "watch_history.head(2)"
   ]
  },
  {
   "cell_type": "code",
   "execution_count": 72,
   "id": "200732cb",
   "metadata": {
    "scrolled": true
   },
   "outputs": [
    {
     "data": {
      "text/html": [
       "<div>\n",
       "<style scoped>\n",
       "    .dataframe tbody tr th:only-of-type {\n",
       "        vertical-align: middle;\n",
       "    }\n",
       "\n",
       "    .dataframe tbody tr th {\n",
       "        vertical-align: top;\n",
       "    }\n",
       "\n",
       "    .dataframe thead th {\n",
       "        text-align: right;\n",
       "    }\n",
       "</style>\n",
       "<table border=\"1\" class=\"dataframe\">\n",
       "  <thead>\n",
       "    <tr style=\"text-align: right;\">\n",
       "      <th></th>\n",
       "      <th>user_id</th>\n",
       "      <th>final_gender_code</th>\n",
       "      <th>age_level</th>\n",
       "      <th>occupation</th>\n",
       "    </tr>\n",
       "  </thead>\n",
       "  <tbody>\n",
       "    <tr>\n",
       "      <th>0</th>\n",
       "      <td>1</td>\n",
       "      <td>1</td>\n",
       "      <td>5</td>\n",
       "      <td>3</td>\n",
       "    </tr>\n",
       "    <tr>\n",
       "      <th>1</th>\n",
       "      <td>2</td>\n",
       "      <td>1</td>\n",
       "      <td>4</td>\n",
       "      <td>9</td>\n",
       "    </tr>\n",
       "  </tbody>\n",
       "</table>\n",
       "</div>"
      ],
      "text/plain": [
       "   user_id  final_gender_code  age_level  occupation\n",
       "0        1                  1          5           3\n",
       "1        2                  1          4           9"
      ]
     },
     "execution_count": 72,
     "metadata": {},
     "output_type": "execute_result"
    }
   ],
   "source": [
    "users = pd.read_excel('user_profile.xlsx')\n",
    "users.head(2)"
   ]
  },
  {
   "cell_type": "code",
   "execution_count": 73,
   "id": "5e6ace07",
   "metadata": {},
   "outputs": [
    {
     "data": {
      "text/plain": [
       "154    1\n",
       "Name: final_gender_code, dtype: int64"
      ]
     },
     "execution_count": 73,
     "metadata": {},
     "output_type": "execute_result"
    }
   ],
   "source": [
    "users[users['user_id']==155].final_gender_code"
   ]
  },
  {
   "cell_type": "code",
   "execution_count": 74,
   "id": "887d720c",
   "metadata": {},
   "outputs": [
    {
     "data": {
      "text/html": [
       "<div>\n",
       "<style scoped>\n",
       "    .dataframe tbody tr th:only-of-type {\n",
       "        vertical-align: middle;\n",
       "    }\n",
       "\n",
       "    .dataframe tbody tr th {\n",
       "        vertical-align: top;\n",
       "    }\n",
       "\n",
       "    .dataframe thead th {\n",
       "        text-align: right;\n",
       "    }\n",
       "</style>\n",
       "<table border=\"1\" class=\"dataframe\">\n",
       "  <thead>\n",
       "    <tr style=\"text-align: right;\">\n",
       "      <th></th>\n",
       "      <th>ad_cat_id</th>\n",
       "      <th>category_name</th>\n",
       "      <th>adtitle</th>\n",
       "    </tr>\n",
       "  </thead>\n",
       "  <tbody>\n",
       "    <tr>\n",
       "      <th>0</th>\n",
       "      <td>1</td>\n",
       "      <td>Shirt</td>\n",
       "      <td>Ad for Shirt</td>\n",
       "    </tr>\n",
       "    <tr>\n",
       "      <th>1</th>\n",
       "      <td>2</td>\n",
       "      <td>Trousers</td>\n",
       "      <td>Ad for Trousers</td>\n",
       "    </tr>\n",
       "  </tbody>\n",
       "</table>\n",
       "</div>"
      ],
      "text/plain": [
       "   ad_cat_id category_name          adtitle\n",
       "0          1         Shirt     Ad for Shirt\n",
       "1          2      Trousers  Ad for Trousers"
      ]
     },
     "execution_count": 74,
     "metadata": {},
     "output_type": "execute_result"
    }
   ],
   "source": [
    "ad_category = pd.read_excel('ad_cateogy.xlsx')\n",
    "ad_category.head(2)"
   ]
  },
  {
   "cell_type": "code",
   "execution_count": 75,
   "id": "15bf9b54",
   "metadata": {},
   "outputs": [],
   "source": [
    "ad_category_mapper = pd.Series(ad_category.ad_cat_id.values,index=ad_category.category_name)"
   ]
  },
  {
   "cell_type": "code",
   "execution_count": 76,
   "id": "984c8a11",
   "metadata": {},
   "outputs": [
    {
     "data": {
      "text/plain": [
       "1"
      ]
     },
     "execution_count": 76,
     "metadata": {},
     "output_type": "execute_result"
    }
   ],
   "source": [
    "ad_category_mapper.get('Shirt')"
   ]
  },
  {
   "cell_type": "code",
   "execution_count": 77,
   "id": "14101b87",
   "metadata": {},
   "outputs": [
    {
     "data": {
      "text/html": [
       "<div>\n",
       "<style scoped>\n",
       "    .dataframe tbody tr th:only-of-type {\n",
       "        vertical-align: middle;\n",
       "    }\n",
       "\n",
       "    .dataframe tbody tr th {\n",
       "        vertical-align: top;\n",
       "    }\n",
       "\n",
       "    .dataframe thead th {\n",
       "        text-align: right;\n",
       "    }\n",
       "</style>\n",
       "<table border=\"1\" class=\"dataframe\">\n",
       "  <thead>\n",
       "    <tr style=\"text-align: right;\">\n",
       "      <th></th>\n",
       "      <th>ad_id</th>\n",
       "      <th>ad_cat_id</th>\n",
       "      <th>brand_id</th>\n",
       "      <th>ad_title</th>\n",
       "    </tr>\n",
       "  </thead>\n",
       "  <tbody>\n",
       "    <tr>\n",
       "      <th>0</th>\n",
       "      <td>1</td>\n",
       "      <td>1</td>\n",
       "      <td>16</td>\n",
       "      <td>hI56FpLEGb</td>\n",
       "    </tr>\n",
       "    <tr>\n",
       "      <th>1</th>\n",
       "      <td>2</td>\n",
       "      <td>2</td>\n",
       "      <td>8</td>\n",
       "      <td>OrZ6WLgGZY</td>\n",
       "    </tr>\n",
       "  </tbody>\n",
       "</table>\n",
       "</div>"
      ],
      "text/plain": [
       "   ad_id  ad_cat_id  brand_id    ad_title\n",
       "0      1          1        16  hI56FpLEGb\n",
       "1      2          2         8  OrZ6WLgGZY"
      ]
     },
     "execution_count": 77,
     "metadata": {},
     "output_type": "execute_result"
    }
   ],
   "source": [
    "ads = pd.read_excel('ads.xlsx')\n",
    "ads.head(2)"
   ]
  },
  {
   "cell_type": "code",
   "execution_count": 78,
   "id": "7e064058",
   "metadata": {},
   "outputs": [
    {
     "data": {
      "text/html": [
       "<div>\n",
       "<style scoped>\n",
       "    .dataframe tbody tr th:only-of-type {\n",
       "        vertical-align: middle;\n",
       "    }\n",
       "\n",
       "    .dataframe tbody tr th {\n",
       "        vertical-align: top;\n",
       "    }\n",
       "\n",
       "    .dataframe thead th {\n",
       "        text-align: right;\n",
       "    }\n",
       "</style>\n",
       "<table border=\"1\" class=\"dataframe\">\n",
       "  <thead>\n",
       "    <tr style=\"text-align: right;\">\n",
       "      <th></th>\n",
       "      <th>id</th>\n",
       "      <th>user_id</th>\n",
       "      <th>watched_video_id</th>\n",
       "      <th>watch_time_in_sec</th>\n",
       "      <th>ad_cat</th>\n",
       "      <th>ad_cat_id</th>\n",
       "      <th>click</th>\n",
       "      <th>ad_id</th>\n",
       "      <th>final_gender_code</th>\n",
       "      <th>age_level</th>\n",
       "      <th>occupation</th>\n",
       "    </tr>\n",
       "  </thead>\n",
       "  <tbody>\n",
       "    <tr>\n",
       "      <th>0</th>\n",
       "      <td>1</td>\n",
       "      <td>202</td>\n",
       "      <td>9195</td>\n",
       "      <td>74</td>\n",
       "      <td>Headphones</td>\n",
       "      <td>8</td>\n",
       "      <td>0</td>\n",
       "      <td>146</td>\n",
       "      <td>2</td>\n",
       "      <td>4</td>\n",
       "      <td>10</td>\n",
       "    </tr>\n",
       "    <tr>\n",
       "      <th>1</th>\n",
       "      <td>2</td>\n",
       "      <td>333</td>\n",
       "      <td>7331</td>\n",
       "      <td>143</td>\n",
       "      <td>Headphones</td>\n",
       "      <td>8</td>\n",
       "      <td>0</td>\n",
       "      <td>146</td>\n",
       "      <td>2</td>\n",
       "      <td>2</td>\n",
       "      <td>8</td>\n",
       "    </tr>\n",
       "  </tbody>\n",
       "</table>\n",
       "</div>"
      ],
      "text/plain": [
       "   id  user_id  watched_video_id  watch_time_in_sec      ad_cat  ad_cat_id  \\\n",
       "0   1      202              9195                 74  Headphones          8   \n",
       "1   2      333              7331                143  Headphones          8   \n",
       "\n",
       "   click  ad_id  final_gender_code  age_level  occupation  \n",
       "0      0    146                  2          4          10  \n",
       "1      0    146                  2          2           8  "
      ]
     },
     "execution_count": 78,
     "metadata": {},
     "output_type": "execute_result"
    }
   ],
   "source": [
    "combined = pd.merge(watch_history,users,how='left',on='user_id')\n",
    "combined.head(2)"
   ]
  },
  {
   "cell_type": "code",
   "execution_count": 79,
   "id": "02da612c",
   "metadata": {},
   "outputs": [
    {
     "data": {
      "text/html": [
       "<div>\n",
       "<style scoped>\n",
       "    .dataframe tbody tr th:only-of-type {\n",
       "        vertical-align: middle;\n",
       "    }\n",
       "\n",
       "    .dataframe tbody tr th {\n",
       "        vertical-align: top;\n",
       "    }\n",
       "\n",
       "    .dataframe thead th {\n",
       "        text-align: right;\n",
       "    }\n",
       "</style>\n",
       "<table border=\"1\" class=\"dataframe\">\n",
       "  <thead>\n",
       "    <tr style=\"text-align: right;\">\n",
       "      <th></th>\n",
       "      <th>id</th>\n",
       "      <th>user_id</th>\n",
       "      <th>watched_video_id</th>\n",
       "      <th>watch_time_in_sec</th>\n",
       "      <th>ad_cat</th>\n",
       "      <th>ad_cat_id</th>\n",
       "      <th>click</th>\n",
       "      <th>ad_id</th>\n",
       "      <th>final_gender_code</th>\n",
       "      <th>age_level</th>\n",
       "      <th>occupation</th>\n",
       "      <th>brand_id</th>\n",
       "      <th>ad_title</th>\n",
       "    </tr>\n",
       "  </thead>\n",
       "  <tbody>\n",
       "    <tr>\n",
       "      <th>0</th>\n",
       "      <td>1</td>\n",
       "      <td>202</td>\n",
       "      <td>9195</td>\n",
       "      <td>74</td>\n",
       "      <td>Headphones</td>\n",
       "      <td>8</td>\n",
       "      <td>0</td>\n",
       "      <td>146</td>\n",
       "      <td>2</td>\n",
       "      <td>4</td>\n",
       "      <td>10</td>\n",
       "      <td>29</td>\n",
       "      <td>H0ijXu4iKz</td>\n",
       "    </tr>\n",
       "    <tr>\n",
       "      <th>1</th>\n",
       "      <td>2</td>\n",
       "      <td>333</td>\n",
       "      <td>7331</td>\n",
       "      <td>143</td>\n",
       "      <td>Headphones</td>\n",
       "      <td>8</td>\n",
       "      <td>0</td>\n",
       "      <td>146</td>\n",
       "      <td>2</td>\n",
       "      <td>2</td>\n",
       "      <td>8</td>\n",
       "      <td>29</td>\n",
       "      <td>H0ijXu4iKz</td>\n",
       "    </tr>\n",
       "  </tbody>\n",
       "</table>\n",
       "</div>"
      ],
      "text/plain": [
       "   id  user_id  watched_video_id  watch_time_in_sec      ad_cat  ad_cat_id  \\\n",
       "0   1      202              9195                 74  Headphones          8   \n",
       "1   2      333              7331                143  Headphones          8   \n",
       "\n",
       "   click  ad_id  final_gender_code  age_level  occupation  brand_id  \\\n",
       "0      0    146                  2          4          10        29   \n",
       "1      0    146                  2          2           8        29   \n",
       "\n",
       "     ad_title  \n",
       "0  H0ijXu4iKz  \n",
       "1  H0ijXu4iKz  "
      ]
     },
     "execution_count": 79,
     "metadata": {},
     "output_type": "execute_result"
    }
   ],
   "source": [
    "combined_v2 = pd.merge(combined,ads.drop('ad_cat_id',axis=1),how='left',on='ad_id')\n",
    "combined_v2.head(2)"
   ]
  },
  {
   "cell_type": "code",
   "execution_count": 80,
   "id": "e1b7afae",
   "metadata": {},
   "outputs": [],
   "source": [
    "combined_v2 = combined_v2.drop('ad_cat',axis=1)"
   ]
  },
  {
   "cell_type": "code",
   "execution_count": 81,
   "id": "ab846e53",
   "metadata": {},
   "outputs": [],
   "source": [
    "# refrence_data = combined_v2.to_dict('records')\n",
    "# refrence_data[1]"
   ]
  },
  {
   "cell_type": "markdown",
   "id": "f3891387",
   "metadata": {},
   "source": [
    "# Model"
   ]
  },
  {
   "cell_type": "code",
   "execution_count": 82,
   "id": "5e4a72bd",
   "metadata": {},
   "outputs": [],
   "source": [
    "import pandas as pd\n",
    "import tensorflow as tf\n",
    "from sklearn.metrics import log_loss, roc_auc_score\n",
    "from sklearn.model_selection import train_test_split\n",
    "from sklearn.preprocessing import LabelEncoder, MinMaxScaler\n",
    "import logging, os \n",
    "logging.disable(logging.WARNING) \n",
    "\n",
    "from deepctr.estimator import DeepFMEstimator\n",
    "from deepctr.estimator.inputs import input_fn_pandas"
   ]
  },
  {
   "cell_type": "code",
   "execution_count": 83,
   "id": "156df209",
   "metadata": {},
   "outputs": [],
   "source": [
    "df = combined_v2.copy()\n",
    "data = df.copy()"
   ]
  },
  {
   "cell_type": "code",
   "execution_count": 84,
   "id": "c67c454e",
   "metadata": {},
   "outputs": [
    {
     "data": {
      "text/html": [
       "<div>\n",
       "<style scoped>\n",
       "    .dataframe tbody tr th:only-of-type {\n",
       "        vertical-align: middle;\n",
       "    }\n",
       "\n",
       "    .dataframe tbody tr th {\n",
       "        vertical-align: top;\n",
       "    }\n",
       "\n",
       "    .dataframe thead th {\n",
       "        text-align: right;\n",
       "    }\n",
       "</style>\n",
       "<table border=\"1\" class=\"dataframe\">\n",
       "  <thead>\n",
       "    <tr style=\"text-align: right;\">\n",
       "      <th></th>\n",
       "      <th>id</th>\n",
       "      <th>user_id</th>\n",
       "      <th>watched_video_id</th>\n",
       "      <th>watch_time_in_sec</th>\n",
       "      <th>ad_cat_id</th>\n",
       "      <th>click</th>\n",
       "      <th>ad_id</th>\n",
       "      <th>final_gender_code</th>\n",
       "      <th>age_level</th>\n",
       "      <th>occupation</th>\n",
       "      <th>brand_id</th>\n",
       "      <th>ad_title</th>\n",
       "    </tr>\n",
       "  </thead>\n",
       "  <tbody>\n",
       "    <tr>\n",
       "      <th>0</th>\n",
       "      <td>1</td>\n",
       "      <td>202</td>\n",
       "      <td>9195</td>\n",
       "      <td>74</td>\n",
       "      <td>8</td>\n",
       "      <td>0</td>\n",
       "      <td>146</td>\n",
       "      <td>2</td>\n",
       "      <td>4</td>\n",
       "      <td>10</td>\n",
       "      <td>29</td>\n",
       "      <td>H0ijXu4iKz</td>\n",
       "    </tr>\n",
       "    <tr>\n",
       "      <th>1</th>\n",
       "      <td>2</td>\n",
       "      <td>333</td>\n",
       "      <td>7331</td>\n",
       "      <td>143</td>\n",
       "      <td>8</td>\n",
       "      <td>0</td>\n",
       "      <td>146</td>\n",
       "      <td>2</td>\n",
       "      <td>2</td>\n",
       "      <td>8</td>\n",
       "      <td>29</td>\n",
       "      <td>H0ijXu4iKz</td>\n",
       "    </tr>\n",
       "  </tbody>\n",
       "</table>\n",
       "</div>"
      ],
      "text/plain": [
       "   id  user_id  watched_video_id  watch_time_in_sec  ad_cat_id  click  ad_id  \\\n",
       "0   1      202              9195                 74          8      0    146   \n",
       "1   2      333              7331                143          8      0    146   \n",
       "\n",
       "   final_gender_code  age_level  occupation  brand_id    ad_title  \n",
       "0                  2          4          10        29  H0ijXu4iKz  \n",
       "1                  2          2           8        29  H0ijXu4iKz  "
      ]
     },
     "execution_count": 84,
     "metadata": {},
     "output_type": "execute_result"
    }
   ],
   "source": [
    "df.head(2)"
   ]
  },
  {
   "cell_type": "code",
   "execution_count": 85,
   "id": "3580adc9",
   "metadata": {},
   "outputs": [],
   "source": [
    "sparse_features = ['user_id', 'watched_video_id', 'ad_cat_id','ad_id', 'final_gender_code', 'age_level', 'occupation',\n",
    "       'brand_id', 'ad_title']\n",
    "dense_features = ['watch_time_in_sec']\n",
    "target = ['click']"
   ]
  },
  {
   "cell_type": "code",
   "execution_count": 86,
   "id": "ce69450d",
   "metadata": {},
   "outputs": [],
   "source": [
    "# 1.Label Encoding for sparse features,and do simple Transformation for dense features\n",
    "for feat in sparse_features:\n",
    "    lbe = LabelEncoder()\n",
    "    data[feat] = lbe.fit_transform(data[feat])\n",
    "mms = MinMaxScaler(feature_range=(0, 1))\n",
    "data[dense_features] = mms.fit_transform(data[dense_features])"
   ]
  },
  {
   "cell_type": "code",
   "execution_count": null,
   "id": "21f5d036",
   "metadata": {},
   "outputs": [],
   "source": []
  },
  {
   "cell_type": "code",
   "execution_count": 87,
   "id": "f852e295",
   "metadata": {},
   "outputs": [],
   "source": [
    "# 2.count #unique features for each sparse field,and record dense feature field name\n",
    "\n",
    "dnn_feature_columns = []\n",
    "linear_feature_columns = []\n"
   ]
  },
  {
   "cell_type": "code",
   "execution_count": 88,
   "id": "816aad11",
   "metadata": {},
   "outputs": [],
   "source": [
    "for i, feat in enumerate(sparse_features):\n",
    "    dnn_feature_columns.append(tf.feature_column.embedding_column(\n",
    "        tf.feature_column.categorical_column_with_identity(feat, data[feat].max() + 1), 4))\n",
    "    linear_feature_columns.append(tf.feature_column.categorical_column_with_identity(feat, data[feat].max() + 1))\n",
    "for feat in dense_features:\n",
    "    dnn_feature_columns.append(tf.feature_column.numeric_column(feat))\n",
    "    linear_feature_columns.append(tf.feature_column.numeric_column(feat))\n"
   ]
  },
  {
   "cell_type": "code",
   "execution_count": 89,
   "id": "39aefbca",
   "metadata": {},
   "outputs": [],
   "source": [
    "# 3.generate input data for model\n",
    "\n",
    "train, test = train_test_split(data, test_size=0.2, random_state=2021)"
   ]
  },
  {
   "cell_type": "code",
   "execution_count": 90,
   "id": "3685815a",
   "metadata": {},
   "outputs": [],
   "source": [
    "# Not setting default value for continuous feature. filled with mean.\n",
    "\n",
    "train_model_input = input_fn_pandas(train, sparse_features + dense_features, 'click', shuffle=True)\n",
    "test_model_input = input_fn_pandas(test, sparse_features + dense_features, None, shuffle=False)"
   ]
  },
  {
   "cell_type": "code",
   "execution_count": 91,
   "id": "b9802446",
   "metadata": {},
   "outputs": [],
   "source": [
    "# 4.Define Model,train,predict and evaluate\n",
    "model = DeepFMEstimator(linear_feature_columns, dnn_feature_columns, task='binary',\n",
    "                        config=tf.estimator.RunConfig(tf_random_seed=2021))\n"
   ]
  },
  {
   "cell_type": "code",
   "execution_count": 92,
   "id": "fb443c3f",
   "metadata": {},
   "outputs": [
    {
     "name": "stderr",
     "output_type": "stream",
     "text": [
      "C:\\Users\\dahal\\.conda\\envs\\3.6new\\lib\\site-packages\\tensorflow\\python\\keras\\engine\\base_layer_v1.py:1700: UserWarning: `layer.add_variable` is deprecated and will be removed in a future version. Please use `layer.add_weight` method instead.\n",
      "  warnings.warn('`layer.add_variable` is deprecated and '\n"
     ]
    }
   ],
   "source": [
    "model.train(train_model_input)\n",
    "pred_ans_iter = model.predict(test_model_input)\n",
    "pred_ans = list(map(lambda x: x['pred'], pred_ans_iter))"
   ]
  },
  {
   "cell_type": "code",
   "execution_count": 93,
   "id": "fa5d78bd",
   "metadata": {},
   "outputs": [
    {
     "name": "stdout",
     "output_type": "stream",
     "text": [
      "test LogLoss 0.9209\n",
      "test AUC 0.4964\n"
     ]
    }
   ],
   "source": [
    "print(\"test LogLoss\", round(log_loss(test[target].values, pred_ans), 4))\n",
    "print(\"test AUC\", round(roc_auc_score(test[target].values, pred_ans), 4))"
   ]
  },
  {
   "cell_type": "markdown",
   "id": "af35970b",
   "metadata": {},
   "source": [
    "# Prediction"
   ]
  },
  {
   "cell_type": "code",
   "execution_count": 94,
   "id": "24ee66fe",
   "metadata": {},
   "outputs": [
    {
     "data": {
      "text/html": [
       "<div>\n",
       "<style scoped>\n",
       "    .dataframe tbody tr th:only-of-type {\n",
       "        vertical-align: middle;\n",
       "    }\n",
       "\n",
       "    .dataframe tbody tr th {\n",
       "        vertical-align: top;\n",
       "    }\n",
       "\n",
       "    .dataframe thead th {\n",
       "        text-align: right;\n",
       "    }\n",
       "</style>\n",
       "<table border=\"1\" class=\"dataframe\">\n",
       "  <thead>\n",
       "    <tr style=\"text-align: right;\">\n",
       "      <th></th>\n",
       "      <th>ad_id</th>\n",
       "      <th>ad_cat_id</th>\n",
       "      <th>brand_id</th>\n",
       "      <th>ad_title</th>\n",
       "    </tr>\n",
       "  </thead>\n",
       "  <tbody>\n",
       "    <tr>\n",
       "      <th>0</th>\n",
       "      <td>1</td>\n",
       "      <td>1</td>\n",
       "      <td>16</td>\n",
       "      <td>hI56FpLEGb</td>\n",
       "    </tr>\n",
       "    <tr>\n",
       "      <th>1</th>\n",
       "      <td>2</td>\n",
       "      <td>2</td>\n",
       "      <td>8</td>\n",
       "      <td>OrZ6WLgGZY</td>\n",
       "    </tr>\n",
       "  </tbody>\n",
       "</table>\n",
       "</div>"
      ],
      "text/plain": [
       "   ad_id  ad_cat_id  brand_id    ad_title\n",
       "0      1          1        16  hI56FpLEGb\n",
       "1      2          2         8  OrZ6WLgGZY"
      ]
     },
     "execution_count": 94,
     "metadata": {},
     "output_type": "execute_result"
    }
   ],
   "source": [
    "ads = pd.read_excel('ads.xlsx')\n",
    "ads.head(2)"
   ]
  },
  {
   "cell_type": "code",
   "execution_count": 95,
   "id": "dd785f18",
   "metadata": {},
   "outputs": [],
   "source": [
    "# ##Test users here\n",
    "# ## Creating test case here. \n",
    "\n",
    "\n",
    "# test = df.iloc[70:71].drop('ad_id',axis=1)\n",
    "# test = test.reset_index(drop=True)\n",
    "# test = test.drop('click',axis=1) ## Click data not yet received\n",
    "# test = test.drop('brand_id',axis=1)\n",
    "# test = test.drop('ad_title',axis=1)\n",
    "# test.at[0,'watch_time_in_sec'] = np.array(0) ## watch_time data not yet received\n",
    "# test"
   ]
  },
  {
   "cell_type": "code",
   "execution_count": 96,
   "id": "7a72e44c",
   "metadata": {},
   "outputs": [],
   "source": [
    "user_id_mapper = dict(set(zip(df.user_id,data.user_id)))\n",
    "video_id_mapper = dict(set(zip(df.watched_video_id,data.watched_video_id)))\n",
    "\n",
    "ad_category_mapper_v2 = dict(set(zip(df.ad_cat_id,data.ad_cat_id)))\n",
    "\n",
    "ad_id_mapper = dict(set(zip(df.ad_id,data.ad_id)))\n",
    "gender_code_mapper = dict(set(zip(df.final_gender_code,data.final_gender_code)))\n",
    "age_level_mapper = dict(set(zip(df.age_level,data.age_level)))\n",
    "occupation_mapper = dict(set(zip(df.occupation,data.occupation)))\n",
    "brand_id_mapper = dict(set(zip(df.brand_id,data.brand_id)))\n",
    "ad_title_mapper = dict(set(zip(df.ad_title,data.ad_title)))\n",
    "\n",
    "# ad_id\tfinal_gender_code\tage_level\toccupation\tbrand_id\tad_title"
   ]
  },
  {
   "cell_type": "markdown",
   "id": "5afdfbd0",
   "metadata": {},
   "source": [
    "# Select UserID to test"
   ]
  },
  {
   "cell_type": "code",
   "execution_count": 97,
   "id": "f8452177",
   "metadata": {},
   "outputs": [],
   "source": [
    "#Inputs user_id and video_id\n",
    "\n",
    "user_id = 155\n",
    "video_id  = 9195"
   ]
  },
  {
   "cell_type": "code",
   "execution_count": 98,
   "id": "56850427",
   "metadata": {},
   "outputs": [
    {
     "data": {
      "text/plain": [
       "Index(['id', 'user_id', 'watched_video_id', 'watch_time_in_sec', 'ad_cat_id',\n",
       "       'click', 'ad_id', 'final_gender_code', 'age_level', 'occupation',\n",
       "       'brand_id', 'ad_title'],\n",
       "      dtype='object')"
      ]
     },
     "execution_count": 98,
     "metadata": {},
     "output_type": "execute_result"
    }
   ],
   "source": [
    "data.columns"
   ]
  },
  {
   "cell_type": "code",
   "execution_count": 99,
   "id": "18521f2d",
   "metadata": {},
   "outputs": [],
   "source": [
    "n_user_id = user_id_mapper.get(user_id)\n",
    "watched_video_id = video_id_mapper.get(video_id)\n",
    "watch_time_in_sec = 0 #Not received data yet\n",
    "ad_cat = video_mapper.get(watched_video_id)\n",
    "ad_cat_id = ad_category_mapper.get(ad_cat)\n",
    "ad_cat_id_v2 = ad_category_mapper_v2.get(ad_cat_id)\n",
    "\n",
    "\n",
    "final_gender_code = gender_code_mapper.get(list(users[users['user_id']==user_id].final_gender_code)[0])\n",
    "age_level = age_level_mapper.get(list(users[users['user_id']==user_id].age_level)[0])\n",
    "occupation = occupation_mapper.get(list(users[users['user_id']==user_id].occupation)[0])\n",
    "\n",
    "\n"
   ]
  },
  {
   "cell_type": "code",
   "execution_count": 100,
   "id": "d9fbe574",
   "metadata": {},
   "outputs": [
    {
     "data": {
      "text/html": [
       "<div>\n",
       "<style scoped>\n",
       "    .dataframe tbody tr th:only-of-type {\n",
       "        vertical-align: middle;\n",
       "    }\n",
       "\n",
       "    .dataframe tbody tr th {\n",
       "        vertical-align: top;\n",
       "    }\n",
       "\n",
       "    .dataframe thead th {\n",
       "        text-align: right;\n",
       "    }\n",
       "</style>\n",
       "<table border=\"1\" class=\"dataframe\">\n",
       "  <thead>\n",
       "    <tr style=\"text-align: right;\">\n",
       "      <th></th>\n",
       "      <th>ad_id</th>\n",
       "      <th>ad_cat_id</th>\n",
       "      <th>brand_id</th>\n",
       "      <th>ad_title</th>\n",
       "    </tr>\n",
       "  </thead>\n",
       "  <tbody>\n",
       "    <tr>\n",
       "      <th>0</th>\n",
       "      <td>7</td>\n",
       "      <td>6</td>\n",
       "      <td>22</td>\n",
       "      <td>rDdpdYoN6j</td>\n",
       "    </tr>\n",
       "    <tr>\n",
       "      <th>1</th>\n",
       "      <td>25</td>\n",
       "      <td>6</td>\n",
       "      <td>25</td>\n",
       "      <td>IgLtUcyeoU</td>\n",
       "    </tr>\n",
       "  </tbody>\n",
       "</table>\n",
       "</div>"
      ],
      "text/plain": [
       "   ad_id  ad_cat_id  brand_id    ad_title\n",
       "0      7          6        22  rDdpdYoN6j\n",
       "1     25          6        25  IgLtUcyeoU"
      ]
     },
     "execution_count": 100,
     "metadata": {},
     "output_type": "execute_result"
    }
   ],
   "source": [
    "new_df = ads[ads['ad_cat_id']==ad_cat_id]\n",
    "new_df = new_df.reset_index(drop=True)\n",
    "new_df.head(2)"
   ]
  },
  {
   "cell_type": "code",
   "execution_count": 101,
   "id": "1d70f067",
   "metadata": {},
   "outputs": [],
   "source": [
    "new_df['ad_id']=new_df['ad_id'].apply(lambda x: ad_id_mapper.get(x))"
   ]
  },
  {
   "cell_type": "code",
   "execution_count": 102,
   "id": "861b9c39",
   "metadata": {},
   "outputs": [],
   "source": [
    "new_df['ad_cat_id']=new_df['ad_cat_id'].apply(lambda x: ad_category_mapper_v2.get(x))"
   ]
  },
  {
   "cell_type": "code",
   "execution_count": 103,
   "id": "0775987a",
   "metadata": {},
   "outputs": [],
   "source": [
    "new_df['brand_id']=new_df['brand_id'].apply(lambda x: brand_id_mapper.get(x))"
   ]
  },
  {
   "cell_type": "code",
   "execution_count": 104,
   "id": "92c4cbc5",
   "metadata": {},
   "outputs": [],
   "source": [
    "new_df['ad_title']=new_df['ad_title'].apply(lambda x: ad_title_mapper.get(x))"
   ]
  },
  {
   "cell_type": "code",
   "execution_count": 105,
   "id": "4cee8f61",
   "metadata": {},
   "outputs": [
    {
     "data": {
      "text/html": [
       "<div>\n",
       "<style scoped>\n",
       "    .dataframe tbody tr th:only-of-type {\n",
       "        vertical-align: middle;\n",
       "    }\n",
       "\n",
       "    .dataframe tbody tr th {\n",
       "        vertical-align: top;\n",
       "    }\n",
       "\n",
       "    .dataframe thead th {\n",
       "        text-align: right;\n",
       "    }\n",
       "</style>\n",
       "<table border=\"1\" class=\"dataframe\">\n",
       "  <thead>\n",
       "    <tr style=\"text-align: right;\">\n",
       "      <th></th>\n",
       "      <th>ad_id</th>\n",
       "      <th>ad_cat_id</th>\n",
       "      <th>brand_id</th>\n",
       "      <th>ad_title</th>\n",
       "    </tr>\n",
       "  </thead>\n",
       "  <tbody>\n",
       "    <tr>\n",
       "      <th>0</th>\n",
       "      <td>6</td>\n",
       "      <td>5</td>\n",
       "      <td>21</td>\n",
       "      <td>341</td>\n",
       "    </tr>\n",
       "    <tr>\n",
       "      <th>1</th>\n",
       "      <td>24</td>\n",
       "      <td>5</td>\n",
       "      <td>24</td>\n",
       "      <td>118</td>\n",
       "    </tr>\n",
       "    <tr>\n",
       "      <th>2</th>\n",
       "      <td>31</td>\n",
       "      <td>5</td>\n",
       "      <td>27</td>\n",
       "      <td>386</td>\n",
       "    </tr>\n",
       "    <tr>\n",
       "      <th>3</th>\n",
       "      <td>47</td>\n",
       "      <td>5</td>\n",
       "      <td>13</td>\n",
       "      <td>170</td>\n",
       "    </tr>\n",
       "    <tr>\n",
       "      <th>4</th>\n",
       "      <td>55</td>\n",
       "      <td>5</td>\n",
       "      <td>17</td>\n",
       "      <td>189</td>\n",
       "    </tr>\n",
       "  </tbody>\n",
       "</table>\n",
       "</div>"
      ],
      "text/plain": [
       "   ad_id  ad_cat_id  brand_id  ad_title\n",
       "0      6          5        21       341\n",
       "1     24          5        24       118\n",
       "2     31          5        27       386\n",
       "3     47          5        13       170\n",
       "4     55          5        17       189"
      ]
     },
     "execution_count": 105,
     "metadata": {},
     "output_type": "execute_result"
    }
   ],
   "source": [
    "new_df.head()"
   ]
  },
  {
   "cell_type": "code",
   "execution_count": 106,
   "id": "1fd8b397",
   "metadata": {},
   "outputs": [],
   "source": [
    "import numpy as np"
   ]
  },
  {
   "cell_type": "code",
   "execution_count": 107,
   "id": "dfd80767",
   "metadata": {},
   "outputs": [],
   "source": [
    "new_df['user_id'] = np.array(n_user_id,dtype='int64')\n",
    "new_df['watched_video_id'] = np.array(watched_video_id,dtype='int64')\n",
    "new_df['watch_time_in_sec'] = np.array(watch_time_in_sec,dtype='int64')\n",
    "new_df['ad_cat_id'] = np.array(ad_cat_id_v2,dtype='int64')\n",
    "\n",
    "new_df['final_gender_code'] = np.array(final_gender_code,dtype='int64')\n",
    "new_df['age_level'] = np.array(age_level,dtype='int64')\n",
    "\n",
    "new_df['occupation'] = np.array(occupation,dtype='int64')\n"
   ]
  },
  {
   "cell_type": "code",
   "execution_count": 108,
   "id": "48714ef1",
   "metadata": {},
   "outputs": [],
   "source": [
    "new_df = new_df[['user_id','watched_video_id','watch_time_in_sec','ad_cat_id','ad_id','final_gender_code','age_level','occupation','brand_id','ad_title']]"
   ]
  },
  {
   "cell_type": "code",
   "execution_count": 109,
   "id": "b35f64cb",
   "metadata": {},
   "outputs": [
    {
     "data": {
      "text/html": [
       "<div>\n",
       "<style scoped>\n",
       "    .dataframe tbody tr th:only-of-type {\n",
       "        vertical-align: middle;\n",
       "    }\n",
       "\n",
       "    .dataframe tbody tr th {\n",
       "        vertical-align: top;\n",
       "    }\n",
       "\n",
       "    .dataframe thead th {\n",
       "        text-align: right;\n",
       "    }\n",
       "</style>\n",
       "<table border=\"1\" class=\"dataframe\">\n",
       "  <thead>\n",
       "    <tr style=\"text-align: right;\">\n",
       "      <th></th>\n",
       "      <th>user_id</th>\n",
       "      <th>watched_video_id</th>\n",
       "      <th>watch_time_in_sec</th>\n",
       "      <th>ad_cat_id</th>\n",
       "      <th>ad_id</th>\n",
       "      <th>final_gender_code</th>\n",
       "      <th>age_level</th>\n",
       "      <th>occupation</th>\n",
       "      <th>brand_id</th>\n",
       "      <th>ad_title</th>\n",
       "    </tr>\n",
       "  </thead>\n",
       "  <tbody>\n",
       "    <tr>\n",
       "      <th>0</th>\n",
       "      <td>154</td>\n",
       "      <td>5798</td>\n",
       "      <td>0</td>\n",
       "      <td>5</td>\n",
       "      <td>6</td>\n",
       "      <td>0</td>\n",
       "      <td>1</td>\n",
       "      <td>0</td>\n",
       "      <td>21</td>\n",
       "      <td>341</td>\n",
       "    </tr>\n",
       "    <tr>\n",
       "      <th>1</th>\n",
       "      <td>154</td>\n",
       "      <td>5798</td>\n",
       "      <td>0</td>\n",
       "      <td>5</td>\n",
       "      <td>24</td>\n",
       "      <td>0</td>\n",
       "      <td>1</td>\n",
       "      <td>0</td>\n",
       "      <td>24</td>\n",
       "      <td>118</td>\n",
       "    </tr>\n",
       "    <tr>\n",
       "      <th>2</th>\n",
       "      <td>154</td>\n",
       "      <td>5798</td>\n",
       "      <td>0</td>\n",
       "      <td>5</td>\n",
       "      <td>31</td>\n",
       "      <td>0</td>\n",
       "      <td>1</td>\n",
       "      <td>0</td>\n",
       "      <td>27</td>\n",
       "      <td>386</td>\n",
       "    </tr>\n",
       "    <tr>\n",
       "      <th>3</th>\n",
       "      <td>154</td>\n",
       "      <td>5798</td>\n",
       "      <td>0</td>\n",
       "      <td>5</td>\n",
       "      <td>47</td>\n",
       "      <td>0</td>\n",
       "      <td>1</td>\n",
       "      <td>0</td>\n",
       "      <td>13</td>\n",
       "      <td>170</td>\n",
       "    </tr>\n",
       "    <tr>\n",
       "      <th>4</th>\n",
       "      <td>154</td>\n",
       "      <td>5798</td>\n",
       "      <td>0</td>\n",
       "      <td>5</td>\n",
       "      <td>55</td>\n",
       "      <td>0</td>\n",
       "      <td>1</td>\n",
       "      <td>0</td>\n",
       "      <td>17</td>\n",
       "      <td>189</td>\n",
       "    </tr>\n",
       "  </tbody>\n",
       "</table>\n",
       "</div>"
      ],
      "text/plain": [
       "   user_id  watched_video_id  watch_time_in_sec  ad_cat_id  ad_id  \\\n",
       "0      154              5798                  0          5      6   \n",
       "1      154              5798                  0          5     24   \n",
       "2      154              5798                  0          5     31   \n",
       "3      154              5798                  0          5     47   \n",
       "4      154              5798                  0          5     55   \n",
       "\n",
       "   final_gender_code  age_level  occupation  brand_id  ad_title  \n",
       "0                  0          1           0        21       341  \n",
       "1                  0          1           0        24       118  \n",
       "2                  0          1           0        27       386  \n",
       "3                  0          1           0        13       170  \n",
       "4                  0          1           0        17       189  "
      ]
     },
     "execution_count": 109,
     "metadata": {},
     "output_type": "execute_result"
    }
   ],
   "source": [
    "new_df.head()"
   ]
  },
  {
   "cell_type": "code",
   "execution_count": 110,
   "id": "837e221a",
   "metadata": {},
   "outputs": [],
   "source": [
    "# def mapper(dictionary,key):\n",
    "#     return dictionary.get(key)"
   ]
  },
  {
   "cell_type": "code",
   "execution_count": 111,
   "id": "fa6a96a7",
   "metadata": {},
   "outputs": [],
   "source": [
    "# ads.head()"
   ]
  },
  {
   "cell_type": "code",
   "execution_count": 112,
   "id": "01b85301",
   "metadata": {},
   "outputs": [],
   "source": [
    "# new_df = pd.DataFrame({'user_id':n_user_id, 'watched_video_id':watched_video_id, \n",
    "#                        'watch_time_in_sec':watch_time_in_sec, 'ad_cat_id':ad_cat})"
   ]
  },
  {
   "cell_type": "code",
   "execution_count": 113,
   "id": "13d905d3",
   "metadata": {},
   "outputs": [],
   "source": [
    "# selection = df.iloc[70:71].drop('ad_id',axis=1)\n",
    "# index = df.iloc[70:71].drop('ad_id',axis=1).index.to_list()\n",
    "# selection"
   ]
  },
  {
   "cell_type": "code",
   "execution_count": 114,
   "id": "b0cd1235",
   "metadata": {},
   "outputs": [],
   "source": [
    "# data.iloc[index].drop('ad_id',axis=1)"
   ]
  },
  {
   "cell_type": "code",
   "execution_count": 115,
   "id": "b4b668ae",
   "metadata": {},
   "outputs": [],
   "source": [
    "# ads = ads[ads.ad_cat_id==test['ad_cat_id'][0]]\n",
    "# ads = ads.reset_index(drop=True)\n",
    "# test = test.merge(ads,how='left',on='ad_cat_id')\n",
    "# test.head(2)"
   ]
  },
  {
   "cell_type": "code",
   "execution_count": 116,
   "id": "b8ec7748",
   "metadata": {},
   "outputs": [],
   "source": [
    "# predict = predict[['user_id','watched_video_id','watch_time_in_sec','ad_cat_id','ad_id','final_gender_code','age_level','occupation','brand_id','ad_title']]"
   ]
  },
  {
   "cell_type": "code",
   "execution_count": 117,
   "id": "86260e5d",
   "metadata": {},
   "outputs": [],
   "source": [
    "# import numpy as np\n",
    "# test['ad_id'] = ''\n",
    "# ads = ads[ads.ad_cat_id==2]\n",
    "# ads = ads.reset_index(drop=True)\n",
    "# test.at[0,'ad_id'] = np.array(ads.ad_id.to_list())"
   ]
  },
  {
   "cell_type": "code",
   "execution_count": 118,
   "id": "b5127e06",
   "metadata": {},
   "outputs": [],
   "source": [
    "# predict = test.explode('ad_id')\n",
    "# # predict['ad_id']=predict['ad_id'].astype('int64')\n",
    "# predict = predict.reset_index(drop=True)\n",
    "# predict.head()"
   ]
  },
  {
   "cell_type": "code",
   "execution_count": 119,
   "id": "257e608c",
   "metadata": {},
   "outputs": [],
   "source": [
    "# predict = predict[['user_id','watched_video_id','watch_time_in_sec','ad_cat_id','ad_id','final_gender_code','age_level','occupation','brand_id','ad_title']]"
   ]
  },
  {
   "cell_type": "code",
   "execution_count": 120,
   "id": "c93bce9e",
   "metadata": {},
   "outputs": [],
   "source": [
    "# predict['ad_id']=predict['ad_id'].astype('int64')"
   ]
  },
  {
   "cell_type": "code",
   "execution_count": 121,
   "id": "6ba98dda",
   "metadata": {},
   "outputs": [],
   "source": [
    "# new = predict.copy()"
   ]
  },
  {
   "cell_type": "code",
   "execution_count": 122,
   "id": "0d35ede2",
   "metadata": {},
   "outputs": [],
   "source": [
    "# sparse_features = ['user_id', 'watched_video_id', 'ad_cat_id','ad_id', 'final_gender_code', 'age_level', 'occupation',\n",
    "#        'brand_id', 'ad_title']\n",
    "# dense_features = ['watch_time_in_sec']\n",
    "# # target = ['click']"
   ]
  },
  {
   "cell_type": "code",
   "execution_count": 123,
   "id": "53ac5edd",
   "metadata": {},
   "outputs": [],
   "source": [
    "# for feat in sparse_features:\n",
    "# #     lbe = LabelEncoder()\n",
    "#     new[feat] = lbe.fit_transform(new[feat])\n",
    "# # mms = MinMaxScaler(feature_range=(0, 1))\n",
    "# new[dense_features] = mms.fit_transform(new[dense_features])"
   ]
  },
  {
   "cell_type": "code",
   "execution_count": 124,
   "id": "43ee889f",
   "metadata": {},
   "outputs": [],
   "source": [
    "predict_model_input = input_fn_pandas(new_df, sparse_features + dense_features, None, shuffle=False)"
   ]
  },
  {
   "cell_type": "code",
   "execution_count": 125,
   "id": "ddb0c309",
   "metadata": {},
   "outputs": [
    {
     "name": "stderr",
     "output_type": "stream",
     "text": [
      "C:\\Users\\dahal\\.conda\\envs\\3.6new\\lib\\site-packages\\tensorflow\\python\\keras\\engine\\base_layer_v1.py:1700: UserWarning: `layer.add_variable` is deprecated and will be removed in a future version. Please use `layer.add_weight` method instead.\n",
      "  warnings.warn('`layer.add_variable` is deprecated and '\n"
     ]
    }
   ],
   "source": [
    "pred_ans_iter = model.predict(predict_model_input)\n",
    "pred_ans = list(map(lambda x: x['pred'], pred_ans_iter))"
   ]
  },
  {
   "cell_type": "code",
   "execution_count": 126,
   "id": "67aebcb6",
   "metadata": {},
   "outputs": [],
   "source": [
    "index = [i for i,value in enumerate(pred_ans) if value>=0.9]\n",
    "if len(index)==0:\n",
    "    index = [i for i,value in enumerate(pred_ans) if value>=0.8]"
   ]
  },
  {
   "cell_type": "code",
   "execution_count": 127,
   "id": "50cfb869",
   "metadata": {},
   "outputs": [
    {
     "data": {
      "text/html": [
       "<div>\n",
       "<style scoped>\n",
       "    .dataframe tbody tr th:only-of-type {\n",
       "        vertical-align: middle;\n",
       "    }\n",
       "\n",
       "    .dataframe tbody tr th {\n",
       "        vertical-align: top;\n",
       "    }\n",
       "\n",
       "    .dataframe thead th {\n",
       "        text-align: right;\n",
       "    }\n",
       "</style>\n",
       "<table border=\"1\" class=\"dataframe\">\n",
       "  <thead>\n",
       "    <tr style=\"text-align: right;\">\n",
       "      <th></th>\n",
       "      <th>user_id</th>\n",
       "      <th>watched_video_id</th>\n",
       "      <th>watch_time_in_sec</th>\n",
       "      <th>ad_cat_id</th>\n",
       "      <th>ad_id</th>\n",
       "      <th>final_gender_code</th>\n",
       "      <th>age_level</th>\n",
       "      <th>occupation</th>\n",
       "      <th>brand_id</th>\n",
       "      <th>ad_title</th>\n",
       "    </tr>\n",
       "  </thead>\n",
       "  <tbody>\n",
       "    <tr>\n",
       "      <th>2</th>\n",
       "      <td>154</td>\n",
       "      <td>5798</td>\n",
       "      <td>0</td>\n",
       "      <td>5</td>\n",
       "      <td>31</td>\n",
       "      <td>0</td>\n",
       "      <td>1</td>\n",
       "      <td>0</td>\n",
       "      <td>27</td>\n",
       "      <td>386</td>\n",
       "    </tr>\n",
       "    <tr>\n",
       "      <th>36</th>\n",
       "      <td>154</td>\n",
       "      <td>5798</td>\n",
       "      <td>0</td>\n",
       "      <td>5</td>\n",
       "      <td>349</td>\n",
       "      <td>0</td>\n",
       "      <td>1</td>\n",
       "      <td>0</td>\n",
       "      <td>27</td>\n",
       "      <td>21</td>\n",
       "    </tr>\n",
       "  </tbody>\n",
       "</table>\n",
       "</div>"
      ],
      "text/plain": [
       "    user_id  watched_video_id  watch_time_in_sec  ad_cat_id  ad_id  \\\n",
       "2       154              5798                  0          5     31   \n",
       "36      154              5798                  0          5    349   \n",
       "\n",
       "    final_gender_code  age_level  occupation  brand_id  ad_title  \n",
       "2                   0          1           0        27       386  \n",
       "36                  0          1           0        27        21  "
      ]
     },
     "execution_count": 127,
     "metadata": {},
     "output_type": "execute_result"
    }
   ],
   "source": [
    "final = new_df.iloc[index]\n",
    "final"
   ]
  },
  {
   "cell_type": "markdown",
   "id": "9ba0700e",
   "metadata": {},
   "source": [
    "# Ads to Display with highest probablity of Click"
   ]
  },
  {
   "cell_type": "code",
   "execution_count": 128,
   "id": "689f19d9",
   "metadata": {},
   "outputs": [],
   "source": [
    "#Select first Only\n",
    "# final[['ad_cat_id','ad_id','brand_id','ad_title']]"
   ]
  },
  {
   "cell_type": "code",
   "execution_count": 129,
   "id": "42fd361b",
   "metadata": {},
   "outputs": [
    {
     "name": "stdout",
     "output_type": "stream",
     "text": [
      "final ad_ids to display: [350, 32]\n"
     ]
    }
   ],
   "source": [
    "final_ad_ids = [x for x, y in ad_id_mapper.items() if y in final.ad_id.to_list()]\n",
    "print(f'final ad_ids to display: {final_ad_ids}')"
   ]
  },
  {
   "cell_type": "code",
   "execution_count": 130,
   "id": "cd3b4cfb",
   "metadata": {},
   "outputs": [
    {
     "data": {
      "text/html": [
       "<div>\n",
       "<style scoped>\n",
       "    .dataframe tbody tr th:only-of-type {\n",
       "        vertical-align: middle;\n",
       "    }\n",
       "\n",
       "    .dataframe tbody tr th {\n",
       "        vertical-align: top;\n",
       "    }\n",
       "\n",
       "    .dataframe thead th {\n",
       "        text-align: right;\n",
       "    }\n",
       "</style>\n",
       "<table border=\"1\" class=\"dataframe\">\n",
       "  <thead>\n",
       "    <tr style=\"text-align: right;\">\n",
       "      <th></th>\n",
       "      <th>ad_id</th>\n",
       "      <th>ad_cat_id</th>\n",
       "      <th>brand_id</th>\n",
       "      <th>ad_title</th>\n",
       "    </tr>\n",
       "  </thead>\n",
       "  <tbody>\n",
       "    <tr>\n",
       "      <th>31</th>\n",
       "      <td>32</td>\n",
       "      <td>6</td>\n",
       "      <td>28</td>\n",
       "      <td>x57lptT636</td>\n",
       "    </tr>\n",
       "    <tr>\n",
       "      <th>349</th>\n",
       "      <td>350</td>\n",
       "      <td>6</td>\n",
       "      <td>28</td>\n",
       "      <td>2a1ScswGKr</td>\n",
       "    </tr>\n",
       "  </tbody>\n",
       "</table>\n",
       "</div>"
      ],
      "text/plain": [
       "     ad_id  ad_cat_id  brand_id    ad_title\n",
       "31      32          6        28  x57lptT636\n",
       "349    350          6        28  2a1ScswGKr"
      ]
     },
     "execution_count": 130,
     "metadata": {},
     "output_type": "execute_result"
    }
   ],
   "source": [
    "ads[ads.ad_id.isin(final_ad_ids)]"
   ]
  },
  {
   "cell_type": "code",
   "execution_count": null,
   "id": "dd9c8446",
   "metadata": {},
   "outputs": [],
   "source": []
  }
 ],
 "metadata": {
  "kernelspec": {
   "display_name": "Python 3",
   "language": "python",
   "name": "python3"
  },
  "language_info": {
   "codemirror_mode": {
    "name": "ipython",
    "version": 3
   },
   "file_extension": ".py",
   "mimetype": "text/x-python",
   "name": "python",
   "nbconvert_exporter": "python",
   "pygments_lexer": "ipython3",
   "version": "3.6.13"
  }
 },
 "nbformat": 4,
 "nbformat_minor": 5
}
